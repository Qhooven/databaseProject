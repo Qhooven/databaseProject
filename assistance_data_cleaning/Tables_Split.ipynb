{
  "nbformat": 4,
  "nbformat_minor": 0,
  "metadata": {
    "colab": {
      "name": "Tables_Split.ipynb",
      "provenance": [],
      "collapsed_sections": []
    },
    "kernelspec": {
      "name": "python3",
      "display_name": "Python 3"
    },
    "language_info": {
      "name": "python"
    }
  },
  "cells": [
    {
      "cell_type": "code",
      "metadata": {
        "colab": {
          "base_uri": "https://localhost:8080/"
        },
        "id": "BnyBmz40TN53",
        "outputId": "b153a4cf-03ad-44d9-c789-b838d789680a"
      },
      "source": [
        "from google.colab import drive\n",
        "drive.mount('/content/drive')"
      ],
      "execution_count": null,
      "outputs": [
        {
          "output_type": "stream",
          "text": [
            "Mounted at /content/drive\n"
          ],
          "name": "stdout"
        }
      ]
    },
    {
      "cell_type": "code",
      "metadata": {
        "id": "TCRGQYLsTSN3"
      },
      "source": [
        "# Prepare libraries\n",
        "import numpy as np\n",
        "import pandas as pd\n",
        "from pandas_profiling import ProfileReport\n",
        "import sklearn\n",
        "import matplotlib.pyplot as plt\n",
        "from textblob import TextBlob\n",
        "from wordcloud import WordCloud, STOPWORDS \n",
        "import plotly.express as px"
      ],
      "execution_count": null,
      "outputs": []
    },
    {
      "cell_type": "code",
      "metadata": {
        "colab": {
          "base_uri": "https://localhost:8080/"
        },
        "id": "EzKY0J7bTd2e",
        "outputId": "8ed486f1-a3ef-4906-8ab2-62563226eae8"
      },
      "source": [
        "# Read in the processed file\n",
        "base_url = '/content/drive/My Drive/550_project/'\n",
        "df_all = pd.read_csv(base_url + \"df_all.csv\")"
      ],
      "execution_count": null,
      "outputs": [
        {
          "output_type": "stream",
          "text": [
            "/usr/local/lib/python3.7/dist-packages/IPython/core/interactiveshell.py:2718: DtypeWarning:\n",
            "\n",
            "Columns (23) have mixed types.Specify dtype option on import or set low_memory=False.\n",
            "\n"
          ],
          "name": "stderr"
        }
      ]
    },
    {
      "cell_type": "code",
      "metadata": {
        "colab": {
          "base_uri": "https://localhost:8080/"
        },
        "id": "Oi_-kAUGsE_p",
        "outputId": "f490b7ca-ae71-4717-ecb8-66f9cd5dda40"
      },
      "source": [
        "df_all.shape"
      ],
      "execution_count": null,
      "outputs": [
        {
          "output_type": "execute_result",
          "data": {
            "text/plain": [
              "(119987, 37)"
            ]
          },
          "metadata": {
            "tags": []
          },
          "execution_count": 5
        }
      ]
    },
    {
      "cell_type": "code",
      "metadata": {
        "colab": {
          "base_uri": "https://localhost:8080/",
          "height": 69
        },
        "id": "sgSXXrg4uu1C",
        "outputId": "ff710bf6-da56-4a58-d709-ddba00faee1a"
      },
      "source": [
        "df_all[pd.isnull(df_all['disaster_emergency_fund_codes_for_overall_award'])]"
      ],
      "execution_count": null,
      "outputs": [
        {
          "output_type": "execute_result",
          "data": {
            "text/html": [
              "<div>\n",
              "<style scoped>\n",
              "    .dataframe tbody tr th:only-of-type {\n",
              "        vertical-align: middle;\n",
              "    }\n",
              "\n",
              "    .dataframe tbody tr th {\n",
              "        vertical-align: top;\n",
              "    }\n",
              "\n",
              "    .dataframe thead th {\n",
              "        text-align: right;\n",
              "    }\n",
              "</style>\n",
              "<table border=\"1\" class=\"dataframe\">\n",
              "  <thead>\n",
              "    <tr style=\"text-align: right;\">\n",
              "      <th></th>\n",
              "      <th>assistance_transaction_unique_key</th>\n",
              "      <th>award_id_fain</th>\n",
              "      <th>federal_action_obligation</th>\n",
              "      <th>total_obligated_amount</th>\n",
              "      <th>non_federal_funding_amount</th>\n",
              "      <th>total_non_federal_funding_amount</th>\n",
              "      <th>disaster_emergency_fund_codes_for_overall_award</th>\n",
              "      <th>action_date</th>\n",
              "      <th>action_date_fiscal_year</th>\n",
              "      <th>period_of_performance_start_date</th>\n",
              "      <th>period_of_performance_current_end_date</th>\n",
              "      <th>awarding_agency_code</th>\n",
              "      <th>awarding_agency_name</th>\n",
              "      <th>funding_agency_code</th>\n",
              "      <th>funding_agency_name</th>\n",
              "      <th>object_classes_funding_this_award</th>\n",
              "      <th>program_activities_funding_this_award</th>\n",
              "      <th>recipient_duns</th>\n",
              "      <th>recipient_name</th>\n",
              "      <th>recipient_parent_duns</th>\n",
              "      <th>recipient_parent_name</th>\n",
              "      <th>recipient_country_code</th>\n",
              "      <th>recipient_country_name</th>\n",
              "      <th>recipient_city_code</th>\n",
              "      <th>recipient_city_name</th>\n",
              "      <th>recipient_state_code</th>\n",
              "      <th>recipient_state_name</th>\n",
              "      <th>recipient_zip_code</th>\n",
              "      <th>primary_place_of_performance_scope</th>\n",
              "      <th>cfda_number</th>\n",
              "      <th>cfda_title</th>\n",
              "      <th>assistance_type_code</th>\n",
              "      <th>assistance_type_description</th>\n",
              "      <th>award_description</th>\n",
              "      <th>action_type_code</th>\n",
              "      <th>action_type_description</th>\n",
              "      <th>obligated_amount_for_covid19</th>\n",
              "    </tr>\n",
              "  </thead>\n",
              "  <tbody>\n",
              "  </tbody>\n",
              "</table>\n",
              "</div>"
            ],
            "text/plain": [
              "Empty DataFrame\n",
              "Columns: [assistance_transaction_unique_key, award_id_fain, federal_action_obligation, total_obligated_amount, non_federal_funding_amount, total_non_federal_funding_amount, disaster_emergency_fund_codes_for_overall_award, action_date, action_date_fiscal_year, period_of_performance_start_date, period_of_performance_current_end_date, awarding_agency_code, awarding_agency_name, funding_agency_code, funding_agency_name, object_classes_funding_this_award, program_activities_funding_this_award, recipient_duns, recipient_name, recipient_parent_duns, recipient_parent_name, recipient_country_code, recipient_country_name, recipient_city_code, recipient_city_name, recipient_state_code, recipient_state_name, recipient_zip_code, primary_place_of_performance_scope, cfda_number, cfda_title, assistance_type_code, assistance_type_description, award_description, action_type_code, action_type_description, obligated_amount_for_covid19]\n",
              "Index: []"
            ]
          },
          "metadata": {
            "tags": []
          },
          "execution_count": 195
        }
      ]
    },
    {
      "cell_type": "code",
      "metadata": {
        "colab": {
          "base_uri": "https://localhost:8080/"
        },
        "id": "9kpUObgqszSA",
        "outputId": "667142b6-6d52-4ffe-c466-de951fbb637e"
      },
      "source": [
        "pd.isna(df_all['recipient_parent_duns']).unique()"
      ],
      "execution_count": null,
      "outputs": [
        {
          "output_type": "execute_result",
          "data": {
            "text/plain": [
              "array([False])"
            ]
          },
          "metadata": {
            "tags": []
          },
          "execution_count": 196
        }
      ]
    },
    {
      "cell_type": "code",
      "metadata": {
        "colab": {
          "base_uri": "https://localhost:8080/"
        },
        "id": "Q_YWJJtKZmag",
        "outputId": "53db7e03-5e90-4347-a14a-e976dc4f7a57"
      },
      "source": [
        "print(df_all.columns)"
      ],
      "execution_count": null,
      "outputs": [
        {
          "output_type": "stream",
          "text": [
            "Index(['assistance_transaction_unique_key', 'award_id_fain',\n",
            "       'federal_action_obligation', 'total_obligated_amount',\n",
            "       'non_federal_funding_amount', 'total_non_federal_funding_amount',\n",
            "       'disaster_emergency_fund_codes_for_overall_award', 'action_date',\n",
            "       'action_date_fiscal_year', 'period_of_performance_start_date',\n",
            "       'period_of_performance_current_end_date', 'awarding_agency_code',\n",
            "       'awarding_agency_name', 'funding_agency_code', 'funding_agency_name',\n",
            "       'object_classes_funding_this_award',\n",
            "       'program_activities_funding_this_award', 'recipient_duns',\n",
            "       'recipient_name', 'recipient_parent_duns', 'recipient_parent_name',\n",
            "       'recipient_country_code', 'recipient_country_name',\n",
            "       'recipient_city_code', 'recipient_city_name', 'recipient_state_code',\n",
            "       'recipient_state_name', 'recipient_zip_code',\n",
            "       'primary_place_of_performance_scope', 'cfda_number', 'cfda_title',\n",
            "       'assistance_type_code', 'assistance_type_description',\n",
            "       'award_description', 'action_type_code', 'action_type_description',\n",
            "       'obligated_amount_for_covid19'],\n",
            "      dtype='object')\n"
          ],
          "name": "stdout"
        }
      ]
    },
    {
      "cell_type": "code",
      "metadata": {
        "colab": {
          "base_uri": "https://localhost:8080/"
        },
        "id": "eh96PXfJcQkT",
        "outputId": "5e8fa41b-4516-49df-b1fe-7269c9142663"
      },
      "source": [
        "df_all.info()"
      ],
      "execution_count": null,
      "outputs": [
        {
          "output_type": "stream",
          "text": [
            "<class 'pandas.core.frame.DataFrame'>\n",
            "RangeIndex: 162163 entries, 0 to 162162\n",
            "Data columns (total 37 columns):\n",
            " #   Column                                           Non-Null Count   Dtype  \n",
            "---  ------                                           --------------   -----  \n",
            " 0   assistance_transaction_unique_key                162163 non-null  object \n",
            " 1   award_id_fain                                    162163 non-null  object \n",
            " 2   federal_action_obligation                        162163 non-null  float64\n",
            " 3   total_obligated_amount                           162163 non-null  float64\n",
            " 4   non_federal_funding_amount                       162163 non-null  float64\n",
            " 5   total_non_federal_funding_amount                 162163 non-null  float64\n",
            " 6   disaster_emergency_fund_codes_for_overall_award  48182 non-null   object \n",
            " 7   action_date                                      162163 non-null  object \n",
            " 8   action_date_fiscal_year                          162163 non-null  int64  \n",
            " 9   period_of_performance_start_date                 162163 non-null  object \n",
            " 10  period_of_performance_current_end_date           162163 non-null  object \n",
            " 11  awarding_agency_code                             162163 non-null  int64  \n",
            " 12  awarding_agency_name                             162163 non-null  object \n",
            " 13  funding_agency_code                              162163 non-null  int64  \n",
            " 14  funding_agency_name                              162163 non-null  object \n",
            " 15  object_classes_funding_this_award                162163 non-null  object \n",
            " 16  program_activities_funding_this_award            119987 non-null  object \n",
            " 17  recipient_duns                                   162163 non-null  float64\n",
            " 18  recipient_name                                   162163 non-null  object \n",
            " 19  recipient_parent_duns                            117710 non-null  float64\n",
            " 20  recipient_parent_name                            98633 non-null   object \n",
            " 21  recipient_country_code                           162163 non-null  object \n",
            " 22  recipient_country_name                           162163 non-null  object \n",
            " 23  recipient_city_code                              162163 non-null  object \n",
            " 24  recipient_city_name                              162163 non-null  object \n",
            " 25  recipient_state_code                             162163 non-null  object \n",
            " 26  recipient_state_name                             162163 non-null  object \n",
            " 27  recipient_zip_code                               162163 non-null  int64  \n",
            " 28  primary_place_of_performance_scope               162163 non-null  object \n",
            " 29  cfda_number                                      162163 non-null  float64\n",
            " 30  cfda_title                                       162163 non-null  object \n",
            " 31  assistance_type_code                             162163 non-null  int64  \n",
            " 32  assistance_type_description                      162163 non-null  object \n",
            " 33  award_description                                162163 non-null  object \n",
            " 34  action_type_code                                 162163 non-null  object \n",
            " 35  action_type_description                          162163 non-null  object \n",
            " 36  obligated_amount_for_covid19                     162163 non-null  float64\n",
            "dtypes: float64(8), int64(5), object(24)\n",
            "memory usage: 45.8+ MB\n"
          ],
          "name": "stdout"
        }
      ]
    },
    {
      "cell_type": "markdown",
      "metadata": {
        "id": "OfP8hDWKX2VG"
      },
      "source": [
        "# Create Tables"
      ]
    },
    {
      "cell_type": "markdown",
      "metadata": {
        "id": "e5S5Qjx9X5En"
      },
      "source": [
        "#### Agency"
      ]
    },
    {
      "cell_type": "code",
      "metadata": {
        "id": "Ka3_m9ETTZTP"
      },
      "source": [
        "### Agency\n",
        "# Get agency-related columns\n",
        "award_cols = ['awarding_agency_code', 'awarding_agency_name']\n",
        "funding_cols = ['funding_agency_code', 'funding_agency_name']\n",
        "award = df_all[award_cols]\n",
        "funding = df_all[funding_cols]\n",
        "\n",
        "award_ag = award.groupby(by='awarding_agency_code').max().reset_index()\n",
        "award_ag.columns = ['agency_code', 'agency_name']\n",
        "funding_ag = funding.groupby(by='funding_agency_code').max().reset_index()\n",
        "funding_ag.columns = ['agency_code', 'agency_name']"
      ],
      "execution_count": null,
      "outputs": []
    },
    {
      "cell_type": "code",
      "metadata": {
        "id": "Eyy_gToUXEgG"
      },
      "source": [
        "agency = pd.concat([award_ag, funding_ag], axis=0) # concatenate funding/awarding agency (just in case each table contains a different val.\n",
        "# It doesn't as proven)"
      ],
      "execution_count": null,
      "outputs": []
    },
    {
      "cell_type": "code",
      "metadata": {
        "colab": {
          "base_uri": "https://localhost:8080/"
        },
        "id": "ZQkXPn51XSSy",
        "outputId": "bb1005b6-d60a-47ed-ea6c-dbe4d6ff6ce4"
      },
      "source": [
        "agency.shape"
      ],
      "execution_count": null,
      "outputs": [
        {
          "output_type": "execute_result",
          "data": {
            "text/plain": [
              "(64, 2)"
            ]
          },
          "metadata": {
            "tags": []
          },
          "execution_count": 29
        }
      ]
    },
    {
      "cell_type": "code",
      "metadata": {
        "colab": {
          "base_uri": "https://localhost:8080/"
        },
        "id": "NhPkEMvlXUWn",
        "outputId": "88de842a-7810-497c-952c-40cd0ce7d945"
      },
      "source": [
        "agency_final = agency.groupby(by='agency_code').max().reset_index()\n",
        "agency_final.shape"
      ],
      "execution_count": null,
      "outputs": [
        {
          "output_type": "execute_result",
          "data": {
            "text/plain": [
              "(31, 2)"
            ]
          },
          "metadata": {
            "tags": []
          },
          "execution_count": 200
        }
      ]
    },
    {
      "cell_type": "code",
      "metadata": {
        "id": "ZdTrg2JyXf6t"
      },
      "source": [
        "agency_final.to_csv(base_url + \"agency.csv\", index=False)"
      ],
      "execution_count": null,
      "outputs": []
    },
    {
      "cell_type": "code",
      "metadata": {
        "colab": {
          "base_uri": "https://localhost:8080/"
        },
        "id": "yDOWuHmFXK0K",
        "outputId": "0fbba90b-ec2b-4b10-e2e1-49878a8a4c5a"
      },
      "source": [
        "agency.info()"
      ],
      "execution_count": null,
      "outputs": [
        {
          "output_type": "stream",
          "text": [
            "<class 'pandas.core.frame.DataFrame'>\n",
            "Int64Index: 64 entries, 0 to 31\n",
            "Data columns (total 2 columns):\n",
            " #   Column       Non-Null Count  Dtype \n",
            "---  ------       --------------  ----- \n",
            " 0   agency_code  64 non-null     int64 \n",
            " 1   agency_name  64 non-null     object\n",
            "dtypes: int64(1), object(1)\n",
            "memory usage: 1.5+ KB\n"
          ],
          "name": "stdout"
        }
      ]
    },
    {
      "cell_type": "code",
      "metadata": {
        "colab": {
          "base_uri": "https://localhost:8080/"
        },
        "id": "QOA3hO7ZVAN9",
        "outputId": "72e19ece-996b-4d67-df6b-80f7cdadf4f3"
      },
      "source": [
        "award_ag.shape"
      ],
      "execution_count": null,
      "outputs": [
        {
          "output_type": "execute_result",
          "data": {
            "text/plain": [
              "(32, 2)"
            ]
          },
          "metadata": {
            "tags": []
          },
          "execution_count": 27
        }
      ]
    },
    {
      "cell_type": "code",
      "metadata": {
        "colab": {
          "base_uri": "https://localhost:8080/"
        },
        "id": "czFKKu2tVct_",
        "outputId": "6f9e9342-0092-4364-a210-d66735648bf7"
      },
      "source": [
        "funding_ag.shape"
      ],
      "execution_count": null,
      "outputs": [
        {
          "output_type": "execute_result",
          "data": {
            "text/plain": [
              "(32, 2)"
            ]
          },
          "metadata": {
            "tags": []
          },
          "execution_count": 28
        }
      ]
    },
    {
      "cell_type": "markdown",
      "metadata": {
        "id": "-iPygp-kYGrg"
      },
      "source": [
        "#### Award (is it necessary?)"
      ]
    },
    {
      "cell_type": "code",
      "metadata": {
        "id": "EhheaANDYNop"
      },
      "source": [
        "award_type_cols = [ 'award_id_fain', 'disaster_emergency_fund_codes_for_overall_award', \n",
        "                   'object_classes_funding_this_award', 'program_activities_funding_this_award',\n",
        "                   'recipient_duns', 'award_description', 'primary_place_of_performance_scope']\n",
        "awards = df_all[award_type_cols]"
      ],
      "execution_count": null,
      "outputs": []
    },
    {
      "cell_type": "code",
      "metadata": {
        "id": "o_54MhA8wxUD"
      },
      "source": [
        "x = [ 'award_id_fain', 'primary_place_of_performance_scope']\n",
        "test = awards[x].groupby(by=['award_id_fain']).max().reset_index()"
      ],
      "execution_count": null,
      "outputs": []
    },
    {
      "cell_type": "code",
      "metadata": {
        "colab": {
          "base_uri": "https://localhost:8080/",
          "height": 204
        },
        "id": "SiY9TEkiw1fU",
        "outputId": "01fb47a0-0d27-4cc3-e637-ff9045ed32ac"
      },
      "source": [
        "test.head()"
      ],
      "execution_count": null,
      "outputs": [
        {
          "output_type": "execute_result",
          "data": {
            "text/html": [
              "<div>\n",
              "<style scoped>\n",
              "    .dataframe tbody tr th:only-of-type {\n",
              "        vertical-align: middle;\n",
              "    }\n",
              "\n",
              "    .dataframe tbody tr th {\n",
              "        vertical-align: top;\n",
              "    }\n",
              "\n",
              "    .dataframe thead th {\n",
              "        text-align: right;\n",
              "    }\n",
              "</style>\n",
              "<table border=\"1\" class=\"dataframe\">\n",
              "  <thead>\n",
              "    <tr style=\"text-align: right;\">\n",
              "      <th></th>\n",
              "      <th>award_id_fain</th>\n",
              "      <th>primary_place_of_performance_scope</th>\n",
              "    </tr>\n",
              "  </thead>\n",
              "  <tbody>\n",
              "    <tr>\n",
              "      <th>0</th>\n",
              "      <td>0000000000694345</td>\n",
              "      <td>County-wide</td>\n",
              "    </tr>\n",
              "    <tr>\n",
              "      <th>1</th>\n",
              "      <td>0000000000778888</td>\n",
              "      <td>County-wide</td>\n",
              "    </tr>\n",
              "    <tr>\n",
              "      <th>2</th>\n",
              "      <td>0000000000797432</td>\n",
              "      <td>County-wide</td>\n",
              "    </tr>\n",
              "    <tr>\n",
              "      <th>3</th>\n",
              "      <td>0000000000813878</td>\n",
              "      <td>County-wide</td>\n",
              "    </tr>\n",
              "    <tr>\n",
              "      <th>4</th>\n",
              "      <td>0000000000814594</td>\n",
              "      <td>County-wide</td>\n",
              "    </tr>\n",
              "  </tbody>\n",
              "</table>\n",
              "</div>"
            ],
            "text/plain": [
              "      award_id_fain primary_place_of_performance_scope\n",
              "0  0000000000694345                        County-wide\n",
              "1  0000000000778888                        County-wide\n",
              "2  0000000000797432                        County-wide\n",
              "3  0000000000813878                        County-wide\n",
              "4  0000000000814594                        County-wide"
            ]
          },
          "metadata": {
            "tags": []
          },
          "execution_count": 184
        }
      ]
    },
    {
      "cell_type": "code",
      "metadata": {
        "id": "Epz2vWsdYdtE"
      },
      "source": [
        "award_type_cols_partial = [ 'award_id_fain', 'disaster_emergency_fund_codes_for_overall_award', \n",
        "                   'object_classes_funding_this_award', 'program_activities_funding_this_award',\n",
        "                   'recipient_duns', 'primary_place_of_performance_scope']\n",
        "awards_final = awards.groupby(by=award_type_cols_partial).max().reset_index()"
      ],
      "execution_count": null,
      "outputs": []
    },
    {
      "cell_type": "code",
      "metadata": {
        "id": "DSPkRmwcykRx"
      },
      "source": [
        "awards_final.head()"
      ],
      "execution_count": null,
      "outputs": []
    },
    {
      "cell_type": "code",
      "metadata": {
        "colab": {
          "base_uri": "https://localhost:8080/"
        },
        "id": "ftAH9MGjwjZL",
        "outputId": "5b9f68ea-13a7-498e-e39a-a62a0df6e98e"
      },
      "source": [
        "# Remember: award came from the beast table, which can have multiple rows for the same award. So it's natural\n",
        "# for \"awards\" table to be bigger than \"awards_final.\"\n",
        "awards_final.shape"
      ],
      "execution_count": null,
      "outputs": [
        {
          "output_type": "execute_result",
          "data": {
            "text/plain": [
              "(70264, 7)"
            ]
          },
          "metadata": {
            "tags": []
          },
          "execution_count": 205
        }
      ]
    },
    {
      "cell_type": "code",
      "metadata": {
        "colab": {
          "base_uri": "https://localhost:8080/"
        },
        "id": "45SzXfzdnueg",
        "outputId": "2f264c12-415f-43fe-cf84-6121f0b08940"
      },
      "source": [
        "len(awards['award_id_fain'].unique())"
      ],
      "execution_count": null,
      "outputs": [
        {
          "output_type": "execute_result",
          "data": {
            "text/plain": [
              "66061"
            ]
          },
          "metadata": {
            "tags": []
          },
          "execution_count": 206
        }
      ]
    },
    {
      "cell_type": "code",
      "metadata": {
        "colab": {
          "base_uri": "https://localhost:8080/"
        },
        "id": "T22PN4R0cBRD",
        "outputId": "7d0c136f-f861-433e-9701-934b44b898e4"
      },
      "source": [
        "len(awards_final['award_id_fain'].unique())"
      ],
      "execution_count": null,
      "outputs": [
        {
          "output_type": "execute_result",
          "data": {
            "text/plain": [
              "66061"
            ]
          },
          "metadata": {
            "tags": []
          },
          "execution_count": 207
        }
      ]
    },
    {
      "cell_type": "code",
      "metadata": {
        "id": "v_6DUTihni5r"
      },
      "source": [
        ""
      ],
      "execution_count": null,
      "outputs": []
    },
    {
      "cell_type": "code",
      "metadata": {
        "id": "1V2EptZbY9i-"
      },
      "source": [
        "awards_final.to_csv(base_url + \"award.csv\", index=False)"
      ],
      "execution_count": null,
      "outputs": []
    },
    {
      "cell_type": "markdown",
      "metadata": {
        "id": "5x9jUnUyZCTV"
      },
      "source": [
        "#### Transaction (1 trans belongs to 1 award; 1 award can have many trans)"
      ]
    },
    {
      "cell_type": "code",
      "metadata": {
        "id": "_Yv0IZITZIRv"
      },
      "source": [
        "trans_cols = [ 'assistance_transaction_unique_key', 'award_id_fain', 'federal_action_obligation', 'total_obligated_amount',\n",
        "       'non_federal_funding_amount', 'total_non_federal_funding_amount', 'action_date',\n",
        "       'action_date_fiscal_year', 'period_of_performance_start_date',\n",
        "       'period_of_performance_current_end_date', 'awarding_agency_code',\n",
        "       'funding_agency_code', 'obligated_amount_for_covid19', 'cfda_number',\n",
        "       'assistance_type_code', 'action_type_code']\n",
        "trans_final = df_all[trans_cols]"
      ],
      "execution_count": null,
      "outputs": []
    },
    {
      "cell_type": "code",
      "metadata": {
        "colab": {
          "base_uri": "https://localhost:8080/"
        },
        "id": "kgh2JBkUjKDM",
        "outputId": "486393da-147b-48bf-83ff-cb938a214a10"
      },
      "source": [
        "trans_final.shape"
      ],
      "execution_count": null,
      "outputs": [
        {
          "output_type": "execute_result",
          "data": {
            "text/plain": [
              "(162163, 16)"
            ]
          },
          "metadata": {
            "tags": []
          },
          "execution_count": 114
        }
      ]
    },
    {
      "cell_type": "code",
      "metadata": {
        "id": "PH1afItzfO9-"
      },
      "source": [
        "trans_final.to_csv(base_url + \"transaction.csv\", index=False)"
      ],
      "execution_count": null,
      "outputs": []
    },
    {
      "cell_type": "markdown",
      "metadata": {
        "id": "NYrgAMLQfcfS"
      },
      "source": [
        "#### Recipient"
      ]
    },
    {
      "cell_type": "code",
      "metadata": {
        "id": "CyUunguwfeRL"
      },
      "source": [
        "recip_cols = [ 'recipient_duns', 'recipient_name', 'recipient_parent_duns', 'recipient_parent_name',\n",
        "              'recipient_country_code', 'recipient_city_code', 'recipient_state_code', 'recipient_zip_code']\n",
        "recip = df_all[recip_cols]"
      ],
      "execution_count": null,
      "outputs": []
    },
    {
      "cell_type": "code",
      "metadata": {
        "id": "l_iuX0Wplj4W"
      },
      "source": [
        "recip_cols_partial = [ 'recipient_duns', 'recipient_name', 'recipient_parent_duns', 'recipient_parent_name',\n",
        "              'recipient_country_code', 'recipient_city_code', 'recipient_state_code']\n",
        "recip_final = recip.groupby(by=recip_cols_partial).max().reset_index()"
      ],
      "execution_count": null,
      "outputs": []
    },
    {
      "cell_type": "code",
      "metadata": {
        "colab": {
          "base_uri": "https://localhost:8080/"
        },
        "id": "Qp91nuqbhHgk",
        "outputId": "061533e4-9d5e-4fa1-a5d9-871301762e1a"
      },
      "source": [
        "len(recip_final['recipient_duns'].unique())"
      ],
      "execution_count": null,
      "outputs": [
        {
          "output_type": "execute_result",
          "data": {
            "text/plain": [
              "18705"
            ]
          },
          "metadata": {
            "tags": []
          },
          "execution_count": 213
        }
      ]
    },
    {
      "cell_type": "code",
      "metadata": {
        "colab": {
          "base_uri": "https://localhost:8080/"
        },
        "id": "98x8CyIF1vXl",
        "outputId": "54a89e17-ffc0-4ddc-a793-a48e4f967dc1"
      },
      "source": [
        "len(recip['recipient_duns'].unique())"
      ],
      "execution_count": null,
      "outputs": [
        {
          "output_type": "execute_result",
          "data": {
            "text/plain": [
              "18705"
            ]
          },
          "metadata": {
            "tags": []
          },
          "execution_count": 214
        }
      ]
    },
    {
      "cell_type": "code",
      "metadata": {
        "colab": {
          "base_uri": "https://localhost:8080/",
          "height": 360
        },
        "id": "7eNAM1Bx1yCP",
        "outputId": "47c20e8a-7e77-44bf-f140-90d4aa76d721"
      },
      "source": [
        "recip_final.head()"
      ],
      "execution_count": null,
      "outputs": [
        {
          "output_type": "execute_result",
          "data": {
            "text/html": [
              "<div>\n",
              "<style scoped>\n",
              "    .dataframe tbody tr th:only-of-type {\n",
              "        vertical-align: middle;\n",
              "    }\n",
              "\n",
              "    .dataframe tbody tr th {\n",
              "        vertical-align: top;\n",
              "    }\n",
              "\n",
              "    .dataframe thead th {\n",
              "        text-align: right;\n",
              "    }\n",
              "</style>\n",
              "<table border=\"1\" class=\"dataframe\">\n",
              "  <thead>\n",
              "    <tr style=\"text-align: right;\">\n",
              "      <th></th>\n",
              "      <th>recipient_duns</th>\n",
              "      <th>recipient_name</th>\n",
              "      <th>recipient_parent_duns</th>\n",
              "      <th>recipient_parent_name</th>\n",
              "      <th>recipient_country_code</th>\n",
              "      <th>recipient_city_code</th>\n",
              "      <th>recipient_state_code</th>\n",
              "      <th>recipient_zip_code</th>\n",
              "    </tr>\n",
              "  </thead>\n",
              "  <tbody>\n",
              "    <tr>\n",
              "      <th>0</th>\n",
              "      <td>1.0</td>\n",
              "      <td>BUCKEYE COMMUNITY</td>\n",
              "      <td>None</td>\n",
              "      <td>None</td>\n",
              "      <td>USA</td>\n",
              "      <td>18000</td>\n",
              "      <td>OH</td>\n",
              "      <td>43231.0</td>\n",
              "    </tr>\n",
              "    <tr>\n",
              "      <th>1</th>\n",
              "      <td>1004944.0</td>\n",
              "      <td>HAMBURG, TOWN OF</td>\n",
              "      <td>1004944.0</td>\n",
              "      <td>HAMBURG, TOWN OF</td>\n",
              "      <td>USA</td>\n",
              "      <td>31665.0</td>\n",
              "      <td>NY</td>\n",
              "      <td>14075.0</td>\n",
              "    </tr>\n",
              "    <tr>\n",
              "      <th>2</th>\n",
              "      <td>1069921.0</td>\n",
              "      <td>COPLEY FURNITURE COMPANY INC</td>\n",
              "      <td>None</td>\n",
              "      <td>None</td>\n",
              "      <td>USA</td>\n",
              "      <td>77710.0</td>\n",
              "      <td>MA</td>\n",
              "      <td>2132.0</td>\n",
              "    </tr>\n",
              "    <tr>\n",
              "      <th>3</th>\n",
              "      <td>1118574.0</td>\n",
              "      <td>NORTHERN CHEYENNE TRIBE</td>\n",
              "      <td>70744123.0</td>\n",
              "      <td>None</td>\n",
              "      <td>USA</td>\n",
              "      <td>42250</td>\n",
              "      <td>MT</td>\n",
              "      <td>59043.0</td>\n",
              "    </tr>\n",
              "    <tr>\n",
              "      <th>4</th>\n",
              "      <td>1118574.0</td>\n",
              "      <td>NORTHERN CHEYENNE TRIBE</td>\n",
              "      <td>70744123.0</td>\n",
              "      <td>None</td>\n",
              "      <td>USA</td>\n",
              "      <td>42250.0</td>\n",
              "      <td>MT</td>\n",
              "      <td>59043.0</td>\n",
              "    </tr>\n",
              "  </tbody>\n",
              "</table>\n",
              "</div>"
            ],
            "text/plain": [
              "   recipient_duns  ... recipient_zip_code\n",
              "0             1.0  ...            43231.0\n",
              "1       1004944.0  ...            14075.0\n",
              "2       1069921.0  ...             2132.0\n",
              "3       1118574.0  ...            59043.0\n",
              "4       1118574.0  ...            59043.0\n",
              "\n",
              "[5 rows x 8 columns]"
            ]
          },
          "metadata": {
            "tags": []
          },
          "execution_count": 215
        }
      ]
    },
    {
      "cell_type": "code",
      "metadata": {
        "id": "0lZ1PTXEgAYh"
      },
      "source": [
        "recip_final.to_csv(base_url + \"recipient.csv\", index=False)"
      ],
      "execution_count": null,
      "outputs": []
    },
    {
      "cell_type": "code",
      "metadata": {
        "colab": {
          "base_uri": "https://localhost:8080/"
        },
        "id": "fnfofiYpglNy",
        "outputId": "2102f697-49aa-4505-b0e9-5cc1d004f84f"
      },
      "source": [
        "len(recip['recipient_duns'].unique())"
      ],
      "execution_count": null,
      "outputs": [
        {
          "output_type": "execute_result",
          "data": {
            "text/plain": [
              "23074"
            ]
          },
          "metadata": {
            "tags": []
          },
          "execution_count": 134
        }
      ]
    },
    {
      "cell_type": "code",
      "metadata": {
        "colab": {
          "base_uri": "https://localhost:8080/"
        },
        "id": "fYuP8C3Igdbz",
        "outputId": "91594ae2-0e06-4343-9aa1-78ab7dd21d2d"
      },
      "source": [
        "recip.shape\n",
        "# What could have caused this discrepancy in recip.shape and recip_final.shape? Maybe it's because we have mixed type like \"31665\" and \"31665.0\"\n",
        "# in the original recip file (note that we got it from the transactions table, so it's natural to have duplicates) \n",
        "\n",
        "# Reason that recip_final has fewer values: NAN groups (rows that have nan values somewhere) are automatically excluded in groupby. \n",
        "# Some of the \"parent_duns\" have Nans.\n",
        "\n",
        "# Real problem (resolved): when dropna() in the other file, didn't drop some na's, so the na's get ignored in groupby, causing inconsistency"
      ],
      "execution_count": null,
      "outputs": [
        {
          "output_type": "execute_result",
          "data": {
            "text/plain": [
              "(162163, 8)"
            ]
          },
          "metadata": {
            "tags": []
          },
          "execution_count": 77
        }
      ]
    },
    {
      "cell_type": "markdown",
      "metadata": {
        "id": "2cN0-pIFiE-Y"
      },
      "source": [
        "#### City"
      ]
    },
    {
      "cell_type": "code",
      "metadata": {
        "id": "wQ9uX92tiCCG"
      },
      "source": [
        "city_col = [ 'recipient_city_code', 'recipient_city_name']\n",
        "city = df_all[city_col]"
      ],
      "execution_count": null,
      "outputs": []
    },
    {
      "cell_type": "code",
      "metadata": {
        "id": "HonMT0bGiPmB"
      },
      "source": [
        "city_final = city.groupby(by=['recipient_city_code']).max().reset_index()"
      ],
      "execution_count": null,
      "outputs": []
    },
    {
      "cell_type": "code",
      "metadata": {
        "colab": {
          "base_uri": "https://localhost:8080/"
        },
        "id": "MSwLdvJg2M1R",
        "outputId": "227b21dc-9162-4669-b352-0d140467fd64"
      },
      "source": [
        "len(city_final['recipient_city_code'].unique())"
      ],
      "execution_count": null,
      "outputs": [
        {
          "output_type": "execute_result",
          "data": {
            "text/plain": [
              "11084"
            ]
          },
          "metadata": {
            "tags": []
          },
          "execution_count": 220
        }
      ]
    },
    {
      "cell_type": "code",
      "metadata": {
        "colab": {
          "base_uri": "https://localhost:8080/"
        },
        "id": "v-ZyL6zo2O7d",
        "outputId": "bd552c58-cd6c-49cc-f1d3-1d518a7fbf7c"
      },
      "source": [
        "len(city['recipient_city_code'].unique())"
      ],
      "execution_count": null,
      "outputs": [
        {
          "output_type": "execute_result",
          "data": {
            "text/plain": [
              "11084"
            ]
          },
          "metadata": {
            "tags": []
          },
          "execution_count": 221
        }
      ]
    },
    {
      "cell_type": "code",
      "metadata": {
        "colab": {
          "base_uri": "https://localhost:8080/",
          "height": 204
        },
        "id": "RBpSH1EBiY0q",
        "outputId": "9bb89592-9380-4d0c-a2a6-ef39ad019d8a"
      },
      "source": [
        "city_final.head()"
      ],
      "execution_count": null,
      "outputs": [
        {
          "output_type": "execute_result",
          "data": {
            "text/html": [
              "<div>\n",
              "<style scoped>\n",
              "    .dataframe tbody tr th:only-of-type {\n",
              "        vertical-align: middle;\n",
              "    }\n",
              "\n",
              "    .dataframe tbody tr th {\n",
              "        vertical-align: top;\n",
              "    }\n",
              "\n",
              "    .dataframe thead th {\n",
              "        text-align: right;\n",
              "    }\n",
              "</style>\n",
              "<table border=\"1\" class=\"dataframe\">\n",
              "  <thead>\n",
              "    <tr style=\"text-align: right;\">\n",
              "      <th></th>\n",
              "      <th>recipient_city_code</th>\n",
              "      <th>recipient_city_name</th>\n",
              "    </tr>\n",
              "  </thead>\n",
              "  <tbody>\n",
              "    <tr>\n",
              "      <th>0</th>\n",
              "      <td>100</td>\n",
              "      <td>ABERDEEN</td>\n",
              "    </tr>\n",
              "    <tr>\n",
              "      <th>1</th>\n",
              "      <td>148</td>\n",
              "      <td>ABINGDON</td>\n",
              "    </tr>\n",
              "    <tr>\n",
              "      <th>2</th>\n",
              "      <td>200</td>\n",
              "      <td>ADA</td>\n",
              "    </tr>\n",
              "    <tr>\n",
              "      <th>3</th>\n",
              "      <td>358</td>\n",
              "      <td>ADJUNTAS</td>\n",
              "    </tr>\n",
              "    <tr>\n",
              "      <th>4</th>\n",
              "      <td>460</td>\n",
              "      <td>AITKIN</td>\n",
              "    </tr>\n",
              "  </tbody>\n",
              "</table>\n",
              "</div>"
            ],
            "text/plain": [
              "  recipient_city_code recipient_city_name\n",
              "0                 100            ABERDEEN\n",
              "1                 148            ABINGDON\n",
              "2                 200                 ADA\n",
              "3                 358            ADJUNTAS\n",
              "4                 460              AITKIN"
            ]
          },
          "metadata": {
            "tags": []
          },
          "execution_count": 222
        }
      ]
    },
    {
      "cell_type": "code",
      "metadata": {
        "id": "V5wliHM6iVLq"
      },
      "source": [
        "city_final.to_csv(base_url + \"city.csv\", index=False)"
      ],
      "execution_count": null,
      "outputs": []
    },
    {
      "cell_type": "markdown",
      "metadata": {
        "id": "BXGNTrCFitI6"
      },
      "source": [
        "#### State"
      ]
    },
    {
      "cell_type": "code",
      "metadata": {
        "id": "ApGfa8kYiu1U"
      },
      "source": [
        "state_cols = [ 'recipient_state_code', 'recipient_state_name']\n",
        "state = df_all[state_cols]"
      ],
      "execution_count": null,
      "outputs": []
    },
    {
      "cell_type": "code",
      "metadata": {
        "id": "1UlyB85cizSb"
      },
      "source": [
        "state_final = state.groupby(by=['recipient_state_code']).max().reset_index()"
      ],
      "execution_count": null,
      "outputs": []
    },
    {
      "cell_type": "code",
      "metadata": {
        "colab": {
          "base_uri": "https://localhost:8080/"
        },
        "id": "2Ssu3t2L2e8l",
        "outputId": "50572ae2-cd42-467b-a7b3-67e9f40873b2"
      },
      "source": [
        "len(state_final['recipient_state_code'].unique())"
      ],
      "execution_count": null,
      "outputs": [
        {
          "output_type": "execute_result",
          "data": {
            "text/plain": [
              "56"
            ]
          },
          "metadata": {
            "tags": []
          },
          "execution_count": 226
        }
      ]
    },
    {
      "cell_type": "code",
      "metadata": {
        "colab": {
          "base_uri": "https://localhost:8080/"
        },
        "id": "g0auchi52f8j",
        "outputId": "f279080b-894f-4bc1-9a45-aa3b87f6c9d1"
      },
      "source": [
        "len(state['recipient_state_code'].unique())"
      ],
      "execution_count": null,
      "outputs": [
        {
          "output_type": "execute_result",
          "data": {
            "text/plain": [
              "56"
            ]
          },
          "metadata": {
            "tags": []
          },
          "execution_count": 227
        }
      ]
    },
    {
      "cell_type": "code",
      "metadata": {
        "colab": {
          "base_uri": "https://localhost:8080/",
          "height": 204
        },
        "id": "-kCqTAs2i27A",
        "outputId": "570b3d04-d647-4b07-86a9-c6850fec59b4"
      },
      "source": [
        "state_final.head()"
      ],
      "execution_count": null,
      "outputs": [
        {
          "output_type": "execute_result",
          "data": {
            "text/html": [
              "<div>\n",
              "<style scoped>\n",
              "    .dataframe tbody tr th:only-of-type {\n",
              "        vertical-align: middle;\n",
              "    }\n",
              "\n",
              "    .dataframe tbody tr th {\n",
              "        vertical-align: top;\n",
              "    }\n",
              "\n",
              "    .dataframe thead th {\n",
              "        text-align: right;\n",
              "    }\n",
              "</style>\n",
              "<table border=\"1\" class=\"dataframe\">\n",
              "  <thead>\n",
              "    <tr style=\"text-align: right;\">\n",
              "      <th></th>\n",
              "      <th>recipient_state_code</th>\n",
              "      <th>recipient_state_name</th>\n",
              "    </tr>\n",
              "  </thead>\n",
              "  <tbody>\n",
              "    <tr>\n",
              "      <th>0</th>\n",
              "      <td>AK</td>\n",
              "      <td>ALASKA</td>\n",
              "    </tr>\n",
              "    <tr>\n",
              "      <th>1</th>\n",
              "      <td>AL</td>\n",
              "      <td>ALABAMA</td>\n",
              "    </tr>\n",
              "    <tr>\n",
              "      <th>2</th>\n",
              "      <td>AR</td>\n",
              "      <td>ARKANSAS</td>\n",
              "    </tr>\n",
              "    <tr>\n",
              "      <th>3</th>\n",
              "      <td>AS</td>\n",
              "      <td>AMERICAN SAMOA</td>\n",
              "    </tr>\n",
              "    <tr>\n",
              "      <th>4</th>\n",
              "      <td>AZ</td>\n",
              "      <td>ARIZONA</td>\n",
              "    </tr>\n",
              "  </tbody>\n",
              "</table>\n",
              "</div>"
            ],
            "text/plain": [
              "  recipient_state_code recipient_state_name\n",
              "0                   AK               ALASKA\n",
              "1                   AL              ALABAMA\n",
              "2                   AR             ARKANSAS\n",
              "3                   AS       AMERICAN SAMOA\n",
              "4                   AZ              ARIZONA"
            ]
          },
          "metadata": {
            "tags": []
          },
          "execution_count": 111
        }
      ]
    },
    {
      "cell_type": "code",
      "metadata": {
        "colab": {
          "base_uri": "https://localhost:8080/"
        },
        "id": "AcRq8U_oi8Dh",
        "outputId": "5c82dfdd-9fe1-46f3-a3cf-c74558a178a8"
      },
      "source": [
        "state_final.shape"
      ],
      "execution_count": null,
      "outputs": [
        {
          "output_type": "execute_result",
          "data": {
            "text/plain": [
              "(56, 2)"
            ]
          },
          "metadata": {
            "tags": []
          },
          "execution_count": 112
        }
      ]
    },
    {
      "cell_type": "code",
      "metadata": {
        "id": "tndqn7eUi31I"
      },
      "source": [
        "state_final.to_csv(base_url + \"state.csv\", index=False)"
      ],
      "execution_count": null,
      "outputs": []
    },
    {
      "cell_type": "markdown",
      "metadata": {
        "id": "qgr1KyGojO4A"
      },
      "source": [
        "#### Area_of_work"
      ]
    },
    {
      "cell_type": "code",
      "metadata": {
        "id": "bytmBTENjT_B"
      },
      "source": [
        "aow_cols = [ 'cfda_number', 'cfda_title' ]\n",
        "aow = df_all[aow_cols]"
      ],
      "execution_count": null,
      "outputs": []
    },
    {
      "cell_type": "code",
      "metadata": {
        "colab": {
          "base_uri": "https://localhost:8080/",
          "height": 204
        },
        "id": "DJPhFrTMjZzH",
        "outputId": "17f281a9-583f-4369-ca89-8ff93505266f"
      },
      "source": [
        "aow_final = aow.groupby(by=['cfda_number']).max().reset_index()\n",
        "aow_final.head()"
      ],
      "execution_count": null,
      "outputs": [
        {
          "output_type": "execute_result",
          "data": {
            "text/html": [
              "<div>\n",
              "<style scoped>\n",
              "    .dataframe tbody tr th:only-of-type {\n",
              "        vertical-align: middle;\n",
              "    }\n",
              "\n",
              "    .dataframe tbody tr th {\n",
              "        vertical-align: top;\n",
              "    }\n",
              "\n",
              "    .dataframe thead th {\n",
              "        text-align: right;\n",
              "    }\n",
              "</style>\n",
              "<table border=\"1\" class=\"dataframe\">\n",
              "  <thead>\n",
              "    <tr style=\"text-align: right;\">\n",
              "      <th></th>\n",
              "      <th>cfda_number</th>\n",
              "      <th>cfda_title</th>\n",
              "    </tr>\n",
              "  </thead>\n",
              "  <tbody>\n",
              "    <tr>\n",
              "      <th>0</th>\n",
              "      <td>10.001</td>\n",
              "      <td>AGRICULTURAL RESEARCH BASIC AND APPLIED RESEARCH</td>\n",
              "    </tr>\n",
              "    <tr>\n",
              "      <th>1</th>\n",
              "      <td>10.025</td>\n",
              "      <td>PLANT AND ANIMAL DISEASE, PEST CONTROL, AND AN...</td>\n",
              "    </tr>\n",
              "    <tr>\n",
              "      <th>2</th>\n",
              "      <td>10.028</td>\n",
              "      <td>WILDLIFE SERVICES</td>\n",
              "    </tr>\n",
              "    <tr>\n",
              "      <th>3</th>\n",
              "      <td>10.030</td>\n",
              "      <td>INDEMNITY PROGRAM</td>\n",
              "    </tr>\n",
              "    <tr>\n",
              "      <th>4</th>\n",
              "      <td>10.124</td>\n",
              "      <td>FARM-TO-FLEET FEEDSTOCK PROGRAM BIOFUEL PRODUC...</td>\n",
              "    </tr>\n",
              "  </tbody>\n",
              "</table>\n",
              "</div>"
            ],
            "text/plain": [
              "   cfda_number                                         cfda_title\n",
              "0       10.001   AGRICULTURAL RESEARCH BASIC AND APPLIED RESEARCH\n",
              "1       10.025  PLANT AND ANIMAL DISEASE, PEST CONTROL, AND AN...\n",
              "2       10.028                                  WILDLIFE SERVICES\n",
              "3       10.030                                  INDEMNITY PROGRAM\n",
              "4       10.124  FARM-TO-FLEET FEEDSTOCK PROGRAM BIOFUEL PRODUC..."
            ]
          },
          "metadata": {
            "tags": []
          },
          "execution_count": 230
        }
      ]
    },
    {
      "cell_type": "code",
      "metadata": {
        "colab": {
          "base_uri": "https://localhost:8080/"
        },
        "id": "htsT4RJKjmDQ",
        "outputId": "3b29ce04-75a3-446d-b482-d04dbe168333"
      },
      "source": [
        "len(aow_final['cfda_number'].unique())"
      ],
      "execution_count": null,
      "outputs": [
        {
          "output_type": "execute_result",
          "data": {
            "text/plain": [
              "1104"
            ]
          },
          "metadata": {
            "tags": []
          },
          "execution_count": 231
        }
      ]
    },
    {
      "cell_type": "code",
      "metadata": {
        "colab": {
          "base_uri": "https://localhost:8080/"
        },
        "id": "VRHFysNkjnoG",
        "outputId": "d2330b45-8dcc-4a95-ec53-fe4f0a1df3a9"
      },
      "source": [
        "len(aow['cfda_number'].unique())"
      ],
      "execution_count": null,
      "outputs": [
        {
          "output_type": "execute_result",
          "data": {
            "text/plain": [
              "1104"
            ]
          },
          "metadata": {
            "tags": []
          },
          "execution_count": 232
        }
      ]
    },
    {
      "cell_type": "code",
      "metadata": {
        "id": "xQLnP2NgjhL7"
      },
      "source": [
        "aow_final.to_csv(base_url + \"area_of_work.csv\", index=False)"
      ],
      "execution_count": null,
      "outputs": []
    },
    {
      "cell_type": "markdown",
      "metadata": {
        "id": "a5f9odqMkNIZ"
      },
      "source": [
        "#### Assistance_type"
      ]
    },
    {
      "cell_type": "code",
      "metadata": {
        "id": "Rf-83MJCkOjM"
      },
      "source": [
        "assist_cols = [ 'assistance_type_code', 'assistance_type_description' ]\n",
        "assist = df_all[assist_cols]"
      ],
      "execution_count": null,
      "outputs": []
    },
    {
      "cell_type": "code",
      "metadata": {
        "colab": {
          "base_uri": "https://localhost:8080/",
          "height": 204
        },
        "id": "trczwqeqkUGe",
        "outputId": "769c3aab-945a-4410-efb4-d5637d7cfc43"
      },
      "source": [
        "assist_final = assist.groupby(by=['assistance_type_code']).max().reset_index()\n",
        "assist_final.head()"
      ],
      "execution_count": null,
      "outputs": [
        {
          "output_type": "execute_result",
          "data": {
            "text/html": [
              "<div>\n",
              "<style scoped>\n",
              "    .dataframe tbody tr th:only-of-type {\n",
              "        vertical-align: middle;\n",
              "    }\n",
              "\n",
              "    .dataframe tbody tr th {\n",
              "        vertical-align: top;\n",
              "    }\n",
              "\n",
              "    .dataframe thead th {\n",
              "        text-align: right;\n",
              "    }\n",
              "</style>\n",
              "<table border=\"1\" class=\"dataframe\">\n",
              "  <thead>\n",
              "    <tr style=\"text-align: right;\">\n",
              "      <th></th>\n",
              "      <th>assistance_type_code</th>\n",
              "      <th>assistance_type_description</th>\n",
              "    </tr>\n",
              "  </thead>\n",
              "  <tbody>\n",
              "    <tr>\n",
              "      <th>0</th>\n",
              "      <td>2</td>\n",
              "      <td>BLOCK GRANT (A)</td>\n",
              "    </tr>\n",
              "    <tr>\n",
              "      <th>1</th>\n",
              "      <td>3</td>\n",
              "      <td>FORMULA GRANT (A)</td>\n",
              "    </tr>\n",
              "    <tr>\n",
              "      <th>2</th>\n",
              "      <td>4</td>\n",
              "      <td>PROJECT GRANT (B)</td>\n",
              "    </tr>\n",
              "    <tr>\n",
              "      <th>3</th>\n",
              "      <td>5</td>\n",
              "      <td>COOPERATIVE AGREEMENT (B)</td>\n",
              "    </tr>\n",
              "    <tr>\n",
              "      <th>4</th>\n",
              "      <td>6</td>\n",
              "      <td>DIRECT PAYMENT FOR SPECIFIED USE, AS A SUBSIDY...</td>\n",
              "    </tr>\n",
              "  </tbody>\n",
              "</table>\n",
              "</div>"
            ],
            "text/plain": [
              "   assistance_type_code                        assistance_type_description\n",
              "0                     2                                    BLOCK GRANT (A)\n",
              "1                     3                                  FORMULA GRANT (A)\n",
              "2                     4                                  PROJECT GRANT (B)\n",
              "3                     5                          COOPERATIVE AGREEMENT (B)\n",
              "4                     6  DIRECT PAYMENT FOR SPECIFIED USE, AS A SUBSIDY..."
            ]
          },
          "metadata": {
            "tags": []
          },
          "execution_count": 235
        }
      ]
    },
    {
      "cell_type": "code",
      "metadata": {
        "colab": {
          "base_uri": "https://localhost:8080/"
        },
        "id": "If-rolnzkfK2",
        "outputId": "17ff733d-b7dc-42aa-bd1d-e4162a486993"
      },
      "source": [
        "len(assist_final['assistance_type_code'].unique())"
      ],
      "execution_count": null,
      "outputs": [
        {
          "output_type": "execute_result",
          "data": {
            "text/plain": [
              "8"
            ]
          },
          "metadata": {
            "tags": []
          },
          "execution_count": 236
        }
      ]
    },
    {
      "cell_type": "code",
      "metadata": {
        "colab": {
          "base_uri": "https://localhost:8080/"
        },
        "id": "hawRQpTpkg1y",
        "outputId": "210d5365-16aa-4906-df6e-f6916470eb3f"
      },
      "source": [
        "len(assist['assistance_type_code'].unique())"
      ],
      "execution_count": null,
      "outputs": [
        {
          "output_type": "execute_result",
          "data": {
            "text/plain": [
              "8"
            ]
          },
          "metadata": {
            "tags": []
          },
          "execution_count": 237
        }
      ]
    },
    {
      "cell_type": "code",
      "metadata": {
        "id": "3HK40a7GkcM4"
      },
      "source": [
        "assist_final.to_csv(base_url + \"assistance.csv\", index=False)"
      ],
      "execution_count": null,
      "outputs": []
    },
    {
      "cell_type": "markdown",
      "metadata": {
        "id": "TCp9zJkM23mo"
      },
      "source": [
        "#### Action"
      ]
    },
    {
      "cell_type": "code",
      "metadata": {
        "id": "iUSo73h03BOx"
      },
      "source": [
        "action_cols = [ 'action_type_code', 'action_type_description' ]\n",
        "action = df_all[action_cols]"
      ],
      "execution_count": null,
      "outputs": []
    },
    {
      "cell_type": "code",
      "metadata": {
        "colab": {
          "base_uri": "https://localhost:8080/",
          "height": 173
        },
        "id": "MQMeTCAI3GwD",
        "outputId": "f8d27bfb-be9b-4699-b490-5d02e63aed8b"
      },
      "source": [
        "action_final = action.groupby(by=['action_type_code']).max().reset_index()\n",
        "action_final.head()"
      ],
      "execution_count": null,
      "outputs": [
        {
          "output_type": "execute_result",
          "data": {
            "text/html": [
              "<div>\n",
              "<style scoped>\n",
              "    .dataframe tbody tr th:only-of-type {\n",
              "        vertical-align: middle;\n",
              "    }\n",
              "\n",
              "    .dataframe tbody tr th {\n",
              "        vertical-align: top;\n",
              "    }\n",
              "\n",
              "    .dataframe thead th {\n",
              "        text-align: right;\n",
              "    }\n",
              "</style>\n",
              "<table border=\"1\" class=\"dataframe\">\n",
              "  <thead>\n",
              "    <tr style=\"text-align: right;\">\n",
              "      <th></th>\n",
              "      <th>action_type_code</th>\n",
              "      <th>action_type_description</th>\n",
              "    </tr>\n",
              "  </thead>\n",
              "  <tbody>\n",
              "    <tr>\n",
              "      <th>0</th>\n",
              "      <td>A</td>\n",
              "      <td>NEW</td>\n",
              "    </tr>\n",
              "    <tr>\n",
              "      <th>1</th>\n",
              "      <td>B</td>\n",
              "      <td>CONTINUATION</td>\n",
              "    </tr>\n",
              "    <tr>\n",
              "      <th>2</th>\n",
              "      <td>C</td>\n",
              "      <td>REVISION</td>\n",
              "    </tr>\n",
              "    <tr>\n",
              "      <th>3</th>\n",
              "      <td>D</td>\n",
              "      <td>ADJUSTMENT TO COMPLETED PROJECT</td>\n",
              "    </tr>\n",
              "  </tbody>\n",
              "</table>\n",
              "</div>"
            ],
            "text/plain": [
              "  action_type_code          action_type_description\n",
              "0                A                              NEW\n",
              "1                B                     CONTINUATION\n",
              "2                C                         REVISION\n",
              "3                D  ADJUSTMENT TO COMPLETED PROJECT"
            ]
          },
          "metadata": {
            "tags": []
          },
          "execution_count": 240
        }
      ]
    },
    {
      "cell_type": "code",
      "metadata": {
        "colab": {
          "base_uri": "https://localhost:8080/"
        },
        "id": "yBwC5Gvh3KmA",
        "outputId": "0a00eb13-5dbd-4187-ed54-0144983d1f3d"
      },
      "source": [
        "len(action['action_type_code'].unique())"
      ],
      "execution_count": null,
      "outputs": [
        {
          "output_type": "execute_result",
          "data": {
            "text/plain": [
              "4"
            ]
          },
          "metadata": {
            "tags": []
          },
          "execution_count": 241
        }
      ]
    },
    {
      "cell_type": "code",
      "metadata": {
        "colab": {
          "base_uri": "https://localhost:8080/"
        },
        "id": "tHEn95EP3L5W",
        "outputId": "0689f2e0-c86e-43d3-b3ed-cdc9586fc415"
      },
      "source": [
        "len(action_final['action_type_code'].unique())"
      ],
      "execution_count": null,
      "outputs": [
        {
          "output_type": "execute_result",
          "data": {
            "text/plain": [
              "4"
            ]
          },
          "metadata": {
            "tags": []
          },
          "execution_count": 242
        }
      ]
    },
    {
      "cell_type": "code",
      "metadata": {
        "id": "Eqqf_7rX3O2-"
      },
      "source": [
        "action_final.to_csv(base_url + \"action.csv\", index=False)"
      ],
      "execution_count": null,
      "outputs": []
    }
  ]
}