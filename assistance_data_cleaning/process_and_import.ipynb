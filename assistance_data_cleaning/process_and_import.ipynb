{
  "nbformat": 4,
  "nbformat_minor": 0,
  "metadata": {
    "colab": {
      "name": "550_Project.ipynb",
      "provenance": [],
      "collapsed_sections": []
    },
    "kernelspec": {
      "name": "python3",
      "display_name": "Python 3"
    },
    "language_info": {
      "name": "python"
    }
  },
  "cells": [
    {
      "cell_type": "code",
      "metadata": {
        "id": "X-MGj8O8h1cl",
        "colab": {
          "base_uri": "https://localhost:8080/"
        },
        "outputId": "b1f7dbcd-3f05-4027-a1d8-c87b38c1745e"
      },
      "source": [
        "from google.colab import drive\n",
        "drive.mount('/content/drive')"
      ],
      "execution_count": null,
      "outputs": [
        {
          "output_type": "stream",
          "text": [
            "Drive already mounted at /content/drive; to attempt to forcibly remount, call drive.mount(\"/content/drive\", force_remount=True).\n"
          ],
          "name": "stdout"
        }
      ]
    },
    {
      "cell_type": "code",
      "metadata": {
        "id": "7ABstdaetb1_"
      },
      "source": [
        "# Prepare libraries\n",
        "import numpy as np\n",
        "import pandas as pd\n",
        "from pandas_profiling import ProfileReport\n",
        "import sklearn\n",
        "import matplotlib.pyplot as plt\n",
        "from textblob import TextBlob\n",
        "from wordcloud import WordCloud, STOPWORDS \n",
        "import plotly.express as px"
      ],
      "execution_count": null,
      "outputs": []
    },
    {
      "cell_type": "markdown",
      "metadata": {
        "id": "NW1urMyqLsEi"
      },
      "source": [
        "# **Reading in data**"
      ]
    },
    {
      "cell_type": "code",
      "metadata": {
        "colab": {
          "base_uri": "https://localhost:8080/"
        },
        "id": "qvTBybhWto-x",
        "outputId": "5ad52564-c5c4-4c70-f9e7-b8c63c802ad4"
      },
      "source": [
        "base_url = '/content/drive/My Drive/550_project/'\n",
        "data_21_1 = pd.read_csv(base_url + \"2021-1.csv\")\n",
        "data_20_1 = pd.read_csv(base_url + \"2020-1.csv\")\n",
        "data_19_1 = pd.read_csv(base_url + \"2019-1.csv\")\n",
        "data_18_1 = pd.read_csv(base_url + \"2018-1.csv\")\n",
        "# data_21_2 = pd.read_csv(base_url + \"2021-2.csv\")\n",
        "# data_20_2 = pd.read_csv(base_url + \"2020-2.csv\")\n",
        "# data_19_2 = pd.read_csv(base_url + \"2019-2.csv\")\n",
        "# data_18_2 = pd.read_csv(base_url + \"2018-2.csv\")"
      ],
      "execution_count": null,
      "outputs": [
        {
          "output_type": "stream",
          "text": [
            "/usr/local/lib/python3.7/dist-packages/IPython/core/interactiveshell.py:2718: DtypeWarning:\n",
            "\n",
            "Columns (2,3,4,14,19,20,23,25,29,31,33,34,35,36,40,45,54,55,56,61,65,67,77,78,83,85,87,89,91) have mixed types.Specify dtype option on import or set low_memory=False.\n",
            "\n",
            "/usr/local/lib/python3.7/dist-packages/IPython/core/interactiveshell.py:2718: DtypeWarning:\n",
            "\n",
            "Columns (45,55,56,83,85,87,89,91) have mixed types.Specify dtype option on import or set low_memory=False.\n",
            "\n",
            "/usr/local/lib/python3.7/dist-packages/IPython/core/interactiveshell.py:2718: DtypeWarning:\n",
            "\n",
            "Columns (45,54,55,56,83,85,87,89,91) have mixed types.Specify dtype option on import or set low_memory=False.\n",
            "\n",
            "/usr/local/lib/python3.7/dist-packages/IPython/core/interactiveshell.py:2718: DtypeWarning:\n",
            "\n",
            "Columns (3,4,26,32,33,34,35,36,40,43,44,45,54,55,56,65,67,71,74,76,77,78,80,82,83,85,87,89,91) have mixed types.Specify dtype option on import or set low_memory=False.\n",
            "\n"
          ],
          "name": "stderr"
        }
      ]
    },
    {
      "cell_type": "code",
      "metadata": {
        "colab": {
          "base_uri": "https://localhost:8080/"
        },
        "id": "OVYXbTWZt82Y",
        "outputId": "2fe02096-778c-4666-e103-8572482f0ec1"
      },
      "source": [
        "print(data_19_1.columns)"
      ],
      "execution_count": null,
      "outputs": [
        {
          "output_type": "stream",
          "text": [
            "Index(['assistance_transaction_unique_key', 'assistance_award_unique_key',\n",
            "       'award_id_fain', 'modification_number', 'award_id_uri', 'sai_number',\n",
            "       'federal_action_obligation', 'total_obligated_amount',\n",
            "       'non_federal_funding_amount', 'total_non_federal_funding_amount',\n",
            "       'face_value_of_loan', 'original_loan_subsidy_cost',\n",
            "       'total_face_value_of_loan', 'total_loan_subsidy_cost',\n",
            "       'disaster_emergency_fund_codes_for_overall_award',\n",
            "       'outlayed_amount_funded_by_COVID-19_supplementals_for_overall_aw',\n",
            "       'obligated_amount_funded_by_COVID-19_supplementals_for_overall_a',\n",
            "       'action_date', 'action_date_fiscal_year',\n",
            "       'period_of_performance_start_date',\n",
            "       'period_of_performance_current_end_date', 'awarding_agency_code',\n",
            "       'awarding_agency_name', 'awarding_sub_agency_code',\n",
            "       'awarding_sub_agency_name', 'awarding_office_code',\n",
            "       'awarding_office_name', 'funding_agency_code', 'funding_agency_name',\n",
            "       'funding_sub_agency_code', 'funding_sub_agency_name',\n",
            "       'funding_office_code', 'funding_office_name',\n",
            "       'treasury_accounts_funding_this_award',\n",
            "       'federal_accounts_funding_this_award',\n",
            "       'object_classes_funding_this_award',\n",
            "       'program_activities_funding_this_award', 'recipient_duns',\n",
            "       'recipient_name', 'recipient_parent_duns', 'recipient_parent_name',\n",
            "       'recipient_country_code', 'recipient_country_name',\n",
            "       'recipient_address_line_1', 'recipient_address_line_2',\n",
            "       'recipient_city_code', 'recipient_city_name', 'recipient_county_code',\n",
            "       'recipient_county_name', 'recipient_state_code', 'recipient_state_name',\n",
            "       'recipient_zip_code', 'recipient_zip_last_4_code',\n",
            "       'recipient_congressional_district', 'recipient_foreign_city_name',\n",
            "       'recipient_foreign_province_name', 'recipient_foreign_postal_code',\n",
            "       'primary_place_of_performance_scope',\n",
            "       'primary_place_of_performance_country_code',\n",
            "       'primary_place_of_performance_country_name',\n",
            "       'primary_place_of_performance_code',\n",
            "       'primary_place_of_performance_city_name',\n",
            "       'primary_place_of_performance_county_code',\n",
            "       'primary_place_of_performance_county_name',\n",
            "       'primary_place_of_performance_state_name',\n",
            "       'primary_place_of_performance_zip_4',\n",
            "       'primary_place_of_performance_congressional_district',\n",
            "       'primary_place_of_performance_foreign_location', 'cfda_number',\n",
            "       'cfda_title', 'assistance_type_code', 'assistance_type_description',\n",
            "       'award_description', 'business_funds_indicator_code',\n",
            "       'business_funds_indicator_description', 'business_types_code',\n",
            "       'business_types_description', 'correction_delete_indicator_code',\n",
            "       'correction_delete_indicator_description', 'action_type_code',\n",
            "       'action_type_description', 'record_type_code',\n",
            "       'record_type_description', 'highly_compensated_officer_1_name',\n",
            "       'highly_compensated_officer_1_amount',\n",
            "       'highly_compensated_officer_2_name',\n",
            "       'highly_compensated_officer_2_amount',\n",
            "       'highly_compensated_officer_3_name',\n",
            "       'highly_compensated_officer_3_amount',\n",
            "       'highly_compensated_officer_4_name',\n",
            "       'highly_compensated_officer_4_amount',\n",
            "       'highly_compensated_officer_5_name',\n",
            "       'highly_compensated_officer_5_amount', 'usaspending_permalink',\n",
            "       'last_modified_date'],\n",
            "      dtype='object')\n"
          ],
          "name": "stdout"
        }
      ]
    },
    {
      "cell_type": "code",
      "metadata": {
        "id": "rueRz7qu_ZeE"
      },
      "source": [
        "# Only keep the 38 desired columns in our schema\n",
        "cols_to_keep = ['assistance_transaction_unique_key', 'award_id_fain', 'federal_action_obligation', \n",
        "                'total_obligated_amount', 'non_federal_funding_amount', 'total_non_federal_funding_amount', 'disaster_emergency_fund_codes_for_overall_award',\n",
        "                'obligated_amount_funded_by_COVID-19_supplementals_for_overall_a', 'action_date', 'action_date_fiscal_year', 'period_of_performance_start_date',\n",
        "                'period_of_performance_current_end_date', 'awarding_agency_code', 'awarding_agency_name', 'funding_agency_code', \n",
        "                'funding_agency_name', 'object_classes_funding_this_award', 'program_activities_funding_this_award', \n",
        "                'recipient_duns', 'recipient_name', 'recipient_parent_duns', 'recipient_parent_name', 'recipient_country_code', \n",
        "                'recipient_country_name', 'recipient_city_code', 'recipient_city_name', 'recipient_state_code', 'recipient_state_name',\n",
        "                'recipient_zip_code', 'primary_place_of_performance_scope', 'cfda_number', 'cfda_title', 'assistance_type_code', \n",
        "                'assistance_type_description', 'award_description', 'action_type_code', 'action_type_description']\n",
        "df_21_1 = data_21_1[cols_to_keep]\n",
        "df_20_1 = data_20_1[cols_to_keep]\n",
        "df_19_1 = data_19_1[cols_to_keep]\n",
        "df_18_1 = data_18_1[cols_to_keep]\n",
        "# df_21_2 = data_21_2[cols_to_keep]\n",
        "# df_20_2 = data_20_2[cols_to_keep]\n",
        "# df_19_2 = data_19_2[cols_to_keep]\n",
        "# df_18_2 = data_18_2[cols_to_keep]"
      ],
      "execution_count": null,
      "outputs": []
    },
    {
      "cell_type": "code",
      "metadata": {
        "colab": {
          "base_uri": "https://localhost:8080/"
        },
        "id": "vxEJIB7QB-L3",
        "outputId": "b692370b-4baa-4436-a249-99b1ab672989"
      },
      "source": [
        "df_21_1.shape"
      ],
      "execution_count": null,
      "outputs": [
        {
          "output_type": "execute_result",
          "data": {
            "text/plain": [
              "(1000000, 37)"
            ]
          },
          "metadata": {
            "tags": []
          },
          "execution_count": 7
        }
      ]
    },
    {
      "cell_type": "code",
      "metadata": {
        "id": "qixdWs5OBLB9"
      },
      "source": [
        "# Join the four tables into one big table\n",
        "list_of_data = [df_21_1, df_20_1, df_19_1, df_18_1]\n",
        "df_all = pd.concat(list_of_data, axis=0)"
      ],
      "execution_count": null,
      "outputs": []
    },
    {
      "cell_type": "code",
      "metadata": {
        "colab": {
          "base_uri": "https://localhost:8080/"
        },
        "id": "2RVax7UyBOiK",
        "outputId": "bbc774e2-8984-40f5-9836-aa2be5169d59"
      },
      "source": [
        "df_all.shape # Test that it successfully joined without dropping any columns"
      ],
      "execution_count": null,
      "outputs": [
        {
          "output_type": "execute_result",
          "data": {
            "text/plain": [
              "(4000000, 37)"
            ]
          },
          "metadata": {
            "tags": []
          },
          "execution_count": 79
        }
      ]
    },
    {
      "cell_type": "code",
      "metadata": {
        "colab": {
          "base_uri": "https://localhost:8080/"
        },
        "id": "O1t91BVYCS8F",
        "outputId": "e1a2094f-0159-426d-b9f4-d18899b8481e"
      },
      "source": [
        "# Check that no primary keys are null\n",
        "pd.isna(df_all['assistance_transaction_unique_key']).unique()"
      ],
      "execution_count": null,
      "outputs": [
        {
          "output_type": "execute_result",
          "data": {
            "text/plain": [
              "array([False])"
            ]
          },
          "metadata": {
            "tags": []
          },
          "execution_count": 12
        }
      ]
    },
    {
      "cell_type": "code",
      "metadata": {
        "colab": {
          "base_uri": "https://localhost:8080/"
        },
        "id": "JmMHKGI6CnMf",
        "outputId": "c4a94ccc-9eae-4e79-82eb-169b12e4a3ca"
      },
      "source": [
        "pd.isna(df_all['award_id_fain']).unique()"
      ],
      "execution_count": null,
      "outputs": [
        {
          "output_type": "execute_result",
          "data": {
            "text/plain": [
              "array([False,  True])"
            ]
          },
          "metadata": {
            "tags": []
          },
          "execution_count": 13
        }
      ]
    },
    {
      "cell_type": "code",
      "metadata": {
        "id": "r6cMqIutE2La"
      },
      "source": [
        "pd.isna(df_all['obligated_amount_funded_by_COVID-19_supplementals_for_overall_a']).unique()\n",
        "df_test1 = df_all[pd.notnull(df_all['obligated_amount_funded_by_COVID-19_supplementals_for_overall_a'])]"
      ],
      "execution_count": null,
      "outputs": []
    },
    {
      "cell_type": "code",
      "metadata": {
        "id": "ksh4MUQ3Fisi"
      },
      "source": [
        "df_test1.head()"
      ],
      "execution_count": null,
      "outputs": []
    },
    {
      "cell_type": "markdown",
      "metadata": {
        "id": "zyV7_tC6HFpQ"
      },
      "source": [
        "# **Fixing problematic columns**"
      ]
    },
    {
      "cell_type": "code",
      "metadata": {
        "id": "lOXcqZYdGPHr"
      },
      "source": [
        "# It makes sense to manually fill in the missing values for all \"obligated fund amounts\" column because if it's missing it should be 0\n",
        "# Obligated for covid19\n",
        "df_all['obligated_amount_for_covid19'] = df_all['obligated_amount_funded_by_COVID-19_supplementals_for_overall_a'].apply(lambda x: 0 if pd.isnull(x) else x)\n",
        "df_all = df_all.drop(columns=['obligated_amount_funded_by_COVID-19_supplementals_for_overall_a'])"
      ],
      "execution_count": null,
      "outputs": []
    },
    {
      "cell_type": "code",
      "metadata": {
        "id": "ecRpTr5eGz-V"
      },
      "source": [
        "# pd.isna(df_all['federal_action_obligation']).unique() \n",
        "# Manually fill in 0 for Nan values of federal_action_obligation\n",
        "x = df_all['federal_action_obligation'].apply(lambda x: 0 if pd.isnull(x) else x)\n",
        "df_all['federal_action_obligation'] = x"
      ],
      "execution_count": null,
      "outputs": []
    },
    {
      "cell_type": "code",
      "metadata": {
        "id": "16lrxHluH1HD"
      },
      "source": [
        "# pd.isna(df_all['total_obligated_amount']).unique()\n",
        "# Manually fill in 0 for Nan values of total_obligated_amount\n",
        "x = df_all['total_obligated_amount'].apply(lambda x: 0 if pd.isnull(x) else x)\n",
        "df_all['total_obligated_amount'] = x"
      ],
      "execution_count": null,
      "outputs": []
    },
    {
      "cell_type": "code",
      "metadata": {
        "id": "g2rWicvOIAnf"
      },
      "source": [
        "# pd.isna(df_all['non_federal_funding_amount']).unique()\n",
        "# Manually fill in 0 for Nan values of non_federal_funding_amount\n",
        "x = df_all['non_federal_funding_amount'].apply(lambda x: 0 if pd.isnull(x) else x)\n",
        "df_all['non_federal_funding_amount'] = x"
      ],
      "execution_count": null,
      "outputs": []
    },
    {
      "cell_type": "code",
      "metadata": {
        "id": "PkI5Coa-IKOm"
      },
      "source": [
        "# pd.isna(df_all['total_non_federal_funding_amount']).unique()\n",
        "# Manually fill in 0 for Nan values of total_non_federal_funding_amount\n",
        "x = df_all['total_non_federal_funding_amount'].apply(lambda x: 0 if pd.isnull(x) else x)\n",
        "df_all['total_non_federal_funding_amount'] = x"
      ],
      "execution_count": null,
      "outputs": []
    },
    {
      "cell_type": "code",
      "metadata": {
        "id": "ZIEMbnxwn--n"
      },
      "source": [
        "# Manually fill disaster code (String \"none\" if it's Nan)\n",
        "x = df_all['disaster_emergency_fund_codes_for_overall_award'].apply(lambda x: \"None\" if pd.isnull(x) else x)\n",
        "df_all['disaster_emergency_fund_codes_for_overall_award'] = x"
      ],
      "execution_count": null,
      "outputs": []
    },
    {
      "cell_type": "code",
      "metadata": {
        "id": "Y3jE_Jm1oCp-"
      },
      "source": [
        "# Recipient_parent_duns fill in the dun/name of themselves if it's nan (they don't have a parent)\n",
        "# x = df_all[['recipient_parent_duns', 'recipient_duns']].apply(lambda r: r['recipient_duns'] if pd.isnull(r['recipient_parent_duns']) else r['recipient_parent_duns'], axis=1)\n",
        "x = df_all['recipient_parent_duns'].apply(lambda x: \"None\" if pd.isnull(x) else x)\n",
        "df_all['recipient_parent_duns'] = x"
      ],
      "execution_count": null,
      "outputs": []
    },
    {
      "cell_type": "code",
      "metadata": {
        "id": "E7U5Pin6qD_d"
      },
      "source": [
        "# Recipient_parent_name, do same as above\n",
        "# x = df_all[['recipient_parent_name', 'recipient_name']].apply(lambda r: r['recipient_name'] if pd.isnull(r['recipient_parent_name']) else r['recipient_parent_name'], axis=1)\n",
        "x = df_all['recipient_parent_name'].apply(lambda x: \"None\" if pd.isnull(x) else x)\n",
        "df_all['recipient_parent_name'] = x"
      ],
      "execution_count": null,
      "outputs": []
    },
    {
      "cell_type": "code",
      "metadata": {
        "id": "hHe-8TDpz4ye"
      },
      "source": [
        "# It should be ok to have NULL for some cols, but not others\n",
        "### Things that can't be null:\n",
        "'''\n",
        "'assistance_transaction_unique_key', 'award_id_fain', 'action_date', 'action_date_fiscal_year', 'period_of_performance_start_date',\n",
        "                    'period_of_performance_current_end_date', 'awarding_agency_code', 'awarding_agency_name', 'funding_agency_code',\n",
        "                    'funding_agency_name', 'object_classes_funding_this_award', 'recipient_duns', 'recipient_name', \n",
        "                    'recipient_country_code', 'recipient_country_name', 'recipient_city_code', 'recipient_city_name', \n",
        "                    'recipient_state_code', 'recipient_state_name', 'recipient_zip_code', 'primary_place_of_performance_scope', \n",
        "                    'cfda_number', 'assistance_type_code', 'assistance_type_description', 'award_description', \n",
        "                    'action_type_code', 'action_type_description'\n",
        "'''\n",
        "list_of_not_null = ['assistance_transaction_unique_key', 'award_id_fain', 'federal_action_obligation', \n",
        "                'total_obligated_amount', 'non_federal_funding_amount', 'total_non_federal_funding_amount', 'disaster_emergency_fund_codes_for_overall_award',\n",
        "                'obligated_amount_for_covid19', 'action_date', 'action_date_fiscal_year', 'period_of_performance_start_date',\n",
        "                'period_of_performance_current_end_date', 'awarding_agency_code', 'awarding_agency_name', 'funding_agency_code', \n",
        "                'funding_agency_name', 'object_classes_funding_this_award', 'program_activities_funding_this_award', \n",
        "                'recipient_duns', 'recipient_name', 'recipient_parent_duns', 'recipient_parent_name', 'recipient_country_code', \n",
        "                'recipient_country_name', 'recipient_city_code', 'recipient_city_name', 'recipient_state_code', 'recipient_state_name',\n",
        "                'recipient_zip_code', 'primary_place_of_performance_scope', 'cfda_number', 'cfda_title', 'assistance_type_code', \n",
        "                'assistance_type_description', 'award_description', 'action_type_code', 'action_type_description']\n",
        "df_all = df_all.dropna()"
      ],
      "execution_count": null,
      "outputs": []
    },
    {
      "cell_type": "code",
      "metadata": {
        "colab": {
          "base_uri": "https://localhost:8080/"
        },
        "id": "eRV3wAV4H930",
        "outputId": "9b966fe0-1988-42f0-c69e-92d5a3eccbdb"
      },
      "source": [
        "pd.isna(df_all['recipient_parent_duns']).unique()"
      ],
      "execution_count": null,
      "outputs": [
        {
          "output_type": "execute_result",
          "data": {
            "text/plain": [
              "array([False])"
            ]
          },
          "metadata": {
            "tags": []
          },
          "execution_count": 187
        }
      ]
    },
    {
      "cell_type": "code",
      "metadata": {
        "colab": {
          "base_uri": "https://localhost:8080/"
        },
        "id": "sXWVhDKHDNWP",
        "outputId": "3f1fbc36-c1c7-4cd7-bc14-f277c651ad89"
      },
      "source": [
        "df_all.shape"
      ],
      "execution_count": null,
      "outputs": [
        {
          "output_type": "execute_result",
          "data": {
            "text/plain": [
              "(119987, 37)"
            ]
          },
          "metadata": {
            "tags": []
          },
          "execution_count": 189
        }
      ]
    },
    {
      "cell_type": "code",
      "metadata": {
        "id": "xttQjo27SlCS"
      },
      "source": [
        "df_all.to_csv(base_url + \"df_all.csv\", index=False)"
      ],
      "execution_count": null,
      "outputs": []
    },
    {
      "cell_type": "code",
      "metadata": {
        "id": "eJ2tfYPY1adK"
      },
      "source": [
        "# df1 = df.loc[df['Date'] > 'Feb 06, 2019']\n",
        "df_all2.head()"
      ],
      "execution_count": null,
      "outputs": []
    },
    {
      "cell_type": "code",
      "metadata": {
        "colab": {
          "base_uri": "https://localhost:8080/",
          "height": 204
        },
        "id": "LtgDbLHGxKO7",
        "outputId": "26cb5080-c882-4707-cb22-2eed7383907d"
      },
      "source": [
        "# Use group by to split them up into multiple tables\n",
        "countries = df_all2[['recipient_country_code', 'recipient_country_name']]\n",
        "countries.head()"
      ],
      "execution_count": null,
      "outputs": [
        {
          "output_type": "execute_result",
          "data": {
            "text/html": [
              "<div>\n",
              "<style scoped>\n",
              "    .dataframe tbody tr th:only-of-type {\n",
              "        vertical-align: middle;\n",
              "    }\n",
              "\n",
              "    .dataframe tbody tr th {\n",
              "        vertical-align: top;\n",
              "    }\n",
              "\n",
              "    .dataframe thead th {\n",
              "        text-align: right;\n",
              "    }\n",
              "</style>\n",
              "<table border=\"1\" class=\"dataframe\">\n",
              "  <thead>\n",
              "    <tr style=\"text-align: right;\">\n",
              "      <th></th>\n",
              "      <th>recipient_country_code</th>\n",
              "      <th>recipient_country_name</th>\n",
              "    </tr>\n",
              "  </thead>\n",
              "  <tbody>\n",
              "    <tr>\n",
              "      <th>0</th>\n",
              "      <td>USA</td>\n",
              "      <td>UNITED STATES</td>\n",
              "    </tr>\n",
              "    <tr>\n",
              "      <th>1</th>\n",
              "      <td>USA</td>\n",
              "      <td>UNITED STATES</td>\n",
              "    </tr>\n",
              "    <tr>\n",
              "      <th>2</th>\n",
              "      <td>USA</td>\n",
              "      <td>UNITED STATES</td>\n",
              "    </tr>\n",
              "    <tr>\n",
              "      <th>3</th>\n",
              "      <td>USA</td>\n",
              "      <td>UNITED STATES</td>\n",
              "    </tr>\n",
              "    <tr>\n",
              "      <th>4</th>\n",
              "      <td>USA</td>\n",
              "      <td>UNITED STATES</td>\n",
              "    </tr>\n",
              "  </tbody>\n",
              "</table>\n",
              "</div>"
            ],
            "text/plain": [
              "  recipient_country_code recipient_country_name\n",
              "0                    USA          UNITED STATES\n",
              "1                    USA          UNITED STATES\n",
              "2                    USA          UNITED STATES\n",
              "3                    USA          UNITED STATES\n",
              "4                    USA          UNITED STATES"
            ]
          },
          "metadata": {
            "tags": []
          },
          "execution_count": 51
        }
      ]
    },
    {
      "cell_type": "code",
      "metadata": {
        "colab": {
          "base_uri": "https://localhost:8080/",
          "height": 80
        },
        "id": "VZg6lfKD2run",
        "outputId": "49fc4775-9b58-4a2a-dbb6-5a0636553323"
      },
      "source": [
        "countries.groupby(by=['recipient_country_code', 'recipient_country_name']).count().reset_index()"
      ],
      "execution_count": null,
      "outputs": [
        {
          "output_type": "execute_result",
          "data": {
            "text/html": [
              "<div>\n",
              "<style scoped>\n",
              "    .dataframe tbody tr th:only-of-type {\n",
              "        vertical-align: middle;\n",
              "    }\n",
              "\n",
              "    .dataframe tbody tr th {\n",
              "        vertical-align: top;\n",
              "    }\n",
              "\n",
              "    .dataframe thead th {\n",
              "        text-align: right;\n",
              "    }\n",
              "</style>\n",
              "<table border=\"1\" class=\"dataframe\">\n",
              "  <thead>\n",
              "    <tr style=\"text-align: right;\">\n",
              "      <th></th>\n",
              "      <th>recipient_country_code</th>\n",
              "      <th>recipient_country_name</th>\n",
              "    </tr>\n",
              "  </thead>\n",
              "  <tbody>\n",
              "    <tr>\n",
              "      <th>0</th>\n",
              "      <td>USA</td>\n",
              "      <td>UNITED STATES</td>\n",
              "    </tr>\n",
              "  </tbody>\n",
              "</table>\n",
              "</div>"
            ],
            "text/plain": [
              "  recipient_country_code recipient_country_name\n",
              "0                    USA          UNITED STATES"
            ]
          },
          "metadata": {
            "tags": []
          },
          "execution_count": 52
        }
      ]
    },
    {
      "cell_type": "code",
      "metadata": {
        "id": "Q_V6a4a13bf7"
      },
      "source": [
        "states = df_all2[['recipient_state_code', 'recipient_state_name']]\n",
        "states_final = states.groupby(by=['recipient_state_code', 'recipient_state_name']).count().reset_index()"
      ],
      "execution_count": null,
      "outputs": []
    },
    {
      "cell_type": "code",
      "metadata": {
        "id": "CPxnYedI3vMG"
      },
      "source": [
        "len(states_final['recipient_state_code'].unique())\n",
        "len(states_final['recipient_state_name'].unique())\n",
        "# They are both 56, so match"
      ],
      "execution_count": null,
      "outputs": []
    },
    {
      "cell_type": "code",
      "metadata": {
        "id": "vtEsK7po390K"
      },
      "source": [
        ""
      ],
      "execution_count": null,
      "outputs": []
    },
    {
      "cell_type": "code",
      "metadata": {
        "colab": {
          "base_uri": "https://localhost:8080/",
          "height": 204
        },
        "id": "dolCrnZd27Ll",
        "outputId": "fa4616e5-d8cd-418f-981c-bcb62445e1d5"
      },
      "source": [
        "cities = df_all2[['recipient_city_code', 'recipient_city_name']]\n",
        "cities.head()"
      ],
      "execution_count": null,
      "outputs": [
        {
          "output_type": "execute_result",
          "data": {
            "text/html": [
              "<div>\n",
              "<style scoped>\n",
              "    .dataframe tbody tr th:only-of-type {\n",
              "        vertical-align: middle;\n",
              "    }\n",
              "\n",
              "    .dataframe tbody tr th {\n",
              "        vertical-align: top;\n",
              "    }\n",
              "\n",
              "    .dataframe thead th {\n",
              "        text-align: right;\n",
              "    }\n",
              "</style>\n",
              "<table border=\"1\" class=\"dataframe\">\n",
              "  <thead>\n",
              "    <tr style=\"text-align: right;\">\n",
              "      <th></th>\n",
              "      <th>recipient_city_code</th>\n",
              "      <th>recipient_city_name</th>\n",
              "    </tr>\n",
              "  </thead>\n",
              "  <tbody>\n",
              "    <tr>\n",
              "      <th>0</th>\n",
              "      <td>50000.0</td>\n",
              "      <td>WASHINGTON</td>\n",
              "    </tr>\n",
              "    <tr>\n",
              "      <th>1</th>\n",
              "      <td>77364.0</td>\n",
              "      <td>SUSANVILLE</td>\n",
              "    </tr>\n",
              "    <tr>\n",
              "      <th>2</th>\n",
              "      <td>36780.0</td>\n",
              "      <td>LA CONNER</td>\n",
              "    </tr>\n",
              "    <tr>\n",
              "      <th>3</th>\n",
              "      <td>58550.0</td>\n",
              "      <td>OUZINKIE</td>\n",
              "    </tr>\n",
              "    <tr>\n",
              "      <th>4</th>\n",
              "      <td>1990.0</td>\n",
              "      <td>ANACORTES</td>\n",
              "    </tr>\n",
              "  </tbody>\n",
              "</table>\n",
              "</div>"
            ],
            "text/plain": [
              "  recipient_city_code recipient_city_name\n",
              "0             50000.0          WASHINGTON\n",
              "1             77364.0          SUSANVILLE\n",
              "2             36780.0           LA CONNER\n",
              "3             58550.0            OUZINKIE\n",
              "4              1990.0           ANACORTES"
            ]
          },
          "metadata": {
            "tags": []
          },
          "execution_count": 55
        }
      ]
    },
    {
      "cell_type": "code",
      "metadata": {
        "colab": {
          "base_uri": "https://localhost:8080/",
          "height": 419
        },
        "id": "fCWzMGT33FdK",
        "outputId": "7cef4a57-8442-400a-c3b5-bb658e083344"
      },
      "source": [
        "cities.groupby(by=['recipient_city_code']).max().reset_index() # One city code matches multiple cities, so I arbitrarily picked the alphabetical \"max\" city if there are multiple matches\n"
      ],
      "execution_count": null,
      "outputs": [
        {
          "output_type": "execute_result",
          "data": {
            "text/html": [
              "<div>\n",
              "<style scoped>\n",
              "    .dataframe tbody tr th:only-of-type {\n",
              "        vertical-align: middle;\n",
              "    }\n",
              "\n",
              "    .dataframe tbody tr th {\n",
              "        vertical-align: top;\n",
              "    }\n",
              "\n",
              "    .dataframe thead th {\n",
              "        text-align: right;\n",
              "    }\n",
              "</style>\n",
              "<table border=\"1\" class=\"dataframe\">\n",
              "  <thead>\n",
              "    <tr style=\"text-align: right;\">\n",
              "      <th></th>\n",
              "      <th>recipient_city_code</th>\n",
              "      <th>recipient_city_name</th>\n",
              "    </tr>\n",
              "  </thead>\n",
              "  <tbody>\n",
              "    <tr>\n",
              "      <th>0</th>\n",
              "      <td>00100</td>\n",
              "      <td>ACHILLE</td>\n",
              "    </tr>\n",
              "    <tr>\n",
              "      <th>1</th>\n",
              "      <td>00124</td>\n",
              "      <td>ABBEVILLE</td>\n",
              "    </tr>\n",
              "    <tr>\n",
              "      <th>2</th>\n",
              "      <td>00125</td>\n",
              "      <td>ABILENE</td>\n",
              "    </tr>\n",
              "    <tr>\n",
              "      <th>3</th>\n",
              "      <td>00135</td>\n",
              "      <td>ABINGTON</td>\n",
              "    </tr>\n",
              "    <tr>\n",
              "      <th>4</th>\n",
              "      <td>00145</td>\n",
              "      <td>ABINGTON</td>\n",
              "    </tr>\n",
              "    <tr>\n",
              "      <th>...</th>\n",
              "      <td>...</td>\n",
              "      <td>...</td>\n",
              "    </tr>\n",
              "    <tr>\n",
              "      <th>10207</th>\n",
              "      <td>9875.0</td>\n",
              "      <td>BURLINGTON</td>\n",
              "    </tr>\n",
              "    <tr>\n",
              "      <th>10208</th>\n",
              "      <td>988.0</td>\n",
              "      <td>ALBERTVILLE</td>\n",
              "    </tr>\n",
              "    <tr>\n",
              "      <th>10209</th>\n",
              "      <td>9880.0</td>\n",
              "      <td>BURNS</td>\n",
              "    </tr>\n",
              "    <tr>\n",
              "      <th>10210</th>\n",
              "      <td>9928.0</td>\n",
              "      <td>BRADY</td>\n",
              "    </tr>\n",
              "    <tr>\n",
              "      <th>10211</th>\n",
              "      <td>996.0</td>\n",
              "      <td>ALAMO</td>\n",
              "    </tr>\n",
              "  </tbody>\n",
              "</table>\n",
              "<p>10212 rows × 2 columns</p>\n",
              "</div>"
            ],
            "text/plain": [
              "      recipient_city_code recipient_city_name\n",
              "0                   00100             ACHILLE\n",
              "1                   00124           ABBEVILLE\n",
              "2                   00125             ABILENE\n",
              "3                   00135            ABINGTON\n",
              "4                   00145            ABINGTON\n",
              "...                   ...                 ...\n",
              "10207              9875.0          BURLINGTON\n",
              "10208               988.0         ALBERTVILLE\n",
              "10209              9880.0               BURNS\n",
              "10210              9928.0               BRADY\n",
              "10211               996.0               ALAMO\n",
              "\n",
              "[10212 rows x 2 columns]"
            ]
          },
          "metadata": {
            "tags": []
          },
          "execution_count": 91
        }
      ]
    }
  ]
}